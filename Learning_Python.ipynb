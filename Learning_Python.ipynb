{
  "nbformat": 4,
  "nbformat_minor": 0,
  "metadata": {
    "colab": {
      "name": "Learning Python.ipynb",
      "provenance": [],
      "authorship_tag": "ABX9TyNR8daLs3nqAlP3dEL8kkH0",
      "include_colab_link": true
    },
    "kernelspec": {
      "name": "python3",
      "display_name": "Python 3"
    },
    "language_info": {
      "name": "python"
    }
  },
  "cells": [
    {
      "cell_type": "markdown",
      "metadata": {
        "id": "view-in-github",
        "colab_type": "text"
      },
      "source": [
        "<a href=\"https://colab.research.google.com/github/kelvin-kahuho/Introduction-to-python/blob/main/Learning_Python.ipynb\" target=\"_parent\"><img src=\"https://colab.research.google.com/assets/colab-badge.svg\" alt=\"Open In Colab\"/></a>"
      ]
    },
    {
      "cell_type": "code",
      "metadata": {
        "colab": {
          "base_uri": "https://localhost:8080/"
        },
        "id": "Mk47Smcbjxxd",
        "outputId": "4659c2b7-6ab3-4b10-8859-e9983884ba99"
      },
      "source": [
        "a = int(input(\"Input no: \"))\n",
        "b = int(input(\"input no: \"))\n",
        "div = a/b\n",
        "print(\"div= \", div)\n",
        "\n",
        "if div >= 5:\n",
        "    print(\"Huge no.\")\n",
        "else:\n",
        "    print(\"small no.\")\n",
        ""
      ],
      "execution_count": null,
      "outputs": [
        {
          "output_type": "stream",
          "name": "stdout",
          "text": [
            "Input no: 12\n",
            "input no: 33\n",
            "div=  0.36363636363636365\n",
            "small no.\n"
          ]
        }
      ]
    },
    {
      "cell_type": "code",
      "metadata": {
        "id": "0TcFuybMkAXJ",
        "colab": {
          "base_uri": "https://localhost:8080/"
        },
        "outputId": "28a3d503-14d0-4fc4-9967-5cb11669e2bc"
      },
      "source": [
        "import math\n",
        "print('hello world')\n",
        "z= math.sqrt(4)\n",
        "w=round(math.sqrt(51))\n",
        "z*w + 20.2\n",
        "type(z)"
      ],
      "execution_count": null,
      "outputs": [
        {
          "output_type": "stream",
          "name": "stdout",
          "text": [
            "hello world\n"
          ]
        },
        {
          "output_type": "execute_result",
          "data": {
            "text/plain": [
              "float"
            ]
          },
          "metadata": {},
          "execution_count": 13
        }
      ]
    },
    {
      "cell_type": "code",
      "metadata": {
        "colab": {
          "base_uri": "https://localhost:8080/"
        },
        "id": "S8fNrVGyXAgR",
        "outputId": "2b0959ca-5c78-49d9-ff13-badb0ac249e7"
      },
      "source": [
        "if 1>2:\n",
        "  print(\"true\")\n",
        "else:\n",
        "  print(\"false\")\n",
        "\n",
        "a = 3\n",
        "print(type(a))\n",
        "y=float(33)\n",
        "print(y)\n",
        "\n",
        "k = [10,12,14,33,51,5,54,4,3,33,34,5,6]\n",
        "print(k)"
      ],
      "execution_count": null,
      "outputs": [
        {
          "output_type": "stream",
          "name": "stdout",
          "text": [
            "false\n",
            "<class 'int'>\n",
            "33.0\n",
            "[10, 12, 14, 33, 51, 5, 54, 4, 3, 33, 34, 5, 6]\n"
          ]
        }
      ]
    },
    {
      "cell_type": "code",
      "metadata": {
        "colab": {
          "base_uri": "https://localhost:8080/"
        },
        "id": "PtXvXbUWcOmL",
        "outputId": "e56c694d-796d-449a-bf5d-94ad42e089da"
      },
      "source": [
        "print(k)\n",
        "print(type(k))\n"
      ],
      "execution_count": null,
      "outputs": [
        {
          "output_type": "stream",
          "name": "stdout",
          "text": [
            "[10, 12, 14, 33, 51, 5, 54, 4, 3, 33, 34, 5, 6]\n",
            "<class 'list'>\n"
          ]
        }
      ]
    },
    {
      "cell_type": "code",
      "metadata": {
        "colab": {
          "base_uri": "https://localhost:8080/"
        },
        "id": "Yq5cBgZ93lxY",
        "outputId": "a144d287-da04-4e3f-f39d-e3164df6e1a3"
      },
      "source": [
        "x= 5\n",
        "\n",
        "def my():\n",
        "  sum = 5 + x\n",
        "  return sum\n",
        "\n",
        "my()"
      ],
      "execution_count": null,
      "outputs": [
        {
          "output_type": "execute_result",
          "data": {
            "text/plain": [
              "10"
            ]
          },
          "metadata": {},
          "execution_count": 7
        }
      ]
    },
    {
      "cell_type": "code",
      "metadata": {
        "colab": {
          "base_uri": "https://localhost:8080/"
        },
        "id": "JThbgM1x4xbt",
        "outputId": "322d4e92-0b57-431c-90a1-693a5fbafcf7"
      },
      "source": [
        "x = 5\n",
        "z = int(5.3)\n",
        "print(type(z))\n",
        "print(5)"
      ],
      "execution_count": null,
      "outputs": [
        {
          "output_type": "stream",
          "name": "stdout",
          "text": [
            "<class 'int'>\n",
            "5\n"
          ]
        }
      ]
    },
    {
      "cell_type": "code",
      "metadata": {
        "colab": {
          "base_uri": "https://localhost:8080/"
        },
        "id": "Cs7SK3EKEbgJ",
        "outputId": "6abb5986-3fd3-49b9-cd6e-e798a7ae86ae"
      },
      "source": [
        "def sum1(a,b):\n",
        "  print(\"sum is equal to\", a+b , \"Multiplacation is equal to\", a*b)\n",
        "sum1(2,5)\n",
        "sum1(5,6)"
      ],
      "execution_count": null,
      "outputs": [
        {
          "output_type": "stream",
          "name": "stdout",
          "text": [
            "sum is equal to 7 Multiplacation is equal to 10\n",
            "sum is equal to 11 Multiplacation is equal to 30\n"
          ]
        }
      ]
    },
    {
      "cell_type": "code",
      "metadata": {
        "colab": {
          "base_uri": "https://localhost:8080/"
        },
        "id": "hnGQxlUzIjxp",
        "outputId": "e901d94f-7b68-4906-8000-3c5f29089e16"
      },
      "source": [
        "x=\"h\"\n",
        "i=0\n",
        "while i < 5:\n",
        "  print(x)\n",
        "  i+=1\n"
      ],
      "execution_count": null,
      "outputs": [
        {
          "output_type": "stream",
          "name": "stdout",
          "text": [
            "h\n",
            "h\n",
            "h\n",
            "h\n",
            "h\n"
          ]
        }
      ]
    },
    {
      "cell_type": "code",
      "metadata": {
        "colab": {
          "base_uri": "https://localhost:8080/"
        },
        "id": "LP20nkXHM6MQ",
        "outputId": "f65cc441-9ba0-496f-9166-5a938d0a3efc"
      },
      "source": [
        "print(14//4)"
      ],
      "execution_count": null,
      "outputs": [
        {
          "output_type": "stream",
          "name": "stdout",
          "text": [
            "3\n"
          ]
        }
      ]
    },
    {
      "cell_type": "code",
      "metadata": {
        "colab": {
          "base_uri": "https://localhost:8080/",
          "height": 35
        },
        "id": "3WC54pu3TNjL",
        "outputId": "b74f33c2-e8d2-4a93-c142-dffbdf47afa3"
      },
      "source": [
        "x=\"gdgdgdggd\"\n",
        "x.upper()"
      ],
      "execution_count": null,
      "outputs": [
        {
          "output_type": "execute_result",
          "data": {
            "application/vnd.google.colaboratory.intrinsic+json": {
              "type": "string"
            },
            "text/plain": [
              "'GDGDGDGGD'"
            ]
          },
          "metadata": {},
          "execution_count": 32
        }
      ]
    },
    {
      "cell_type": "code",
      "metadata": {
        "colab": {
          "base_uri": "https://localhost:8080/"
        },
        "id": "moBG88ucUkNT",
        "outputId": "960df4d7-4cc5-4419-ffc4-57fe26ff6e3d"
      },
      "source": [
        "repeats = \"h\" *5\n",
        "print(repeats)"
      ],
      "execution_count": null,
      "outputs": [
        {
          "output_type": "stream",
          "name": "stdout",
          "text": [
            "hhhhh\n"
          ]
        }
      ]
    },
    {
      "cell_type": "code",
      "metadata": {
        "colab": {
          "base_uri": "https://localhost:8080/"
        },
        "id": "l48MgAVXZ6jv",
        "outputId": "c43e6d4c-5690-4ef7-ae2a-64c973e118c9"
      },
      "source": [
        "import numpy as np\n",
        "def checkboardpattern(n):\n",
        "   print(\"Checkerboard pattern:\")\n",
        "   x = np.zeros((n, n), dtype = int)\n",
        "   x[1::2, ::2] = 1\n",
        "   x[::2, 1::2] = 1\n",
        "   # print the pattern\n",
        "   for i in range(n):\n",
        "      for j in range(n):\n",
        "         print(x[i][j], end =\" \")\n",
        "      print()\n",
        "# Driver code\n",
        "n = int(input(\"Enter value of n ::>\"))\n",
        "checkboardpattern(n)"
      ],
      "execution_count": 1,
      "outputs": [
        {
          "output_type": "stream",
          "name": "stdout",
          "text": [
            "Enter value of n ::>5\n",
            "Checkerboard pattern:\n",
            "0 1 0 1 0 \n",
            "1 0 1 0 1 \n",
            "0 1 0 1 0 \n",
            "1 0 1 0 1 \n",
            "0 1 0 1 0 \n"
          ]
        }
      ]
    }
  ]
}